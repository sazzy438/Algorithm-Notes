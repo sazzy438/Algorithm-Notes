{
  "nbformat": 4,
  "nbformat_minor": 0,
  "metadata": {
    "colab": {
      "provenance": [],
      "include_colab_link": true
    },
    "kernelspec": {
      "name": "python3",
      "display_name": "Python 3"
    },
    "language_info": {
      "name": "python"
    }
  },
  "cells": [
    {
      "cell_type": "markdown",
      "metadata": {
        "id": "view-in-github",
        "colab_type": "text"
      },
      "source": [
        "<a href=\"https://colab.research.google.com/github/sazzy438/Algorithm-Notes/blob/main/06_16.ipynb\" target=\"_parent\"><img src=\"https://colab.research.google.com/assets/colab-badge.svg\" alt=\"Open In Colab\"/></a>"
      ]
    },
    {
      "cell_type": "markdown",
      "source": [
        "Consider three functions: $3n$, $8n$, and $n^2$.\n",
        "\n",
        "For large values of $n$, we expect $n^2 > 8n > 3n$. Furthermore, we expect $3n$ and $8n$ to be much closer to each other than $8n$ and $n^2$."
      ],
      "metadata": {
        "id": "sOGTII-HoEy_"
      }
    },
    {
      "cell_type": "code",
      "source": [
        "import matplotlib.pyplot as plt\n",
        "\n",
        "arg = list (range (1000000))\n",
        "f1 = []     # 3n\n",
        "f2 = []     # 8n\n",
        "f3 = []     # n^2\n",
        "f4 = []     # n^3\n",
        "\n",
        "for i in arg:\n",
        "  f1.append (3 * i)\n",
        "  f2.append (8 * i)\n",
        "  f3.append (i * i)\n",
        "  f4.append (i * i * i)\n",
        "\n",
        "plt.figure ()\n",
        "\n",
        "plt.plot (arg, f1, label = \"3n\")\n",
        "plt.plot (arg, f2, label = \"8n\")\n",
        "plt.plot (arg, f3, label = \"n^2\")    # comment out to compare 3n and 8n\n",
        "plt.plot (arg, f4, label = \"n^3\")    # comment out to compare 3n and 8n\n",
        "\n",
        "plt.legend (loc = \"best\")"
      ],
      "metadata": {
        "colab": {
          "base_uri": "https://localhost:8080/",
          "height": 481
        },
        "id": "yifbOskDogOf",
        "outputId": "dc3d1ebf-e8b2-4d3c-ce76-2ab9c1b64b0f"
      },
      "execution_count": null,
      "outputs": [
        {
          "output_type": "execute_result",
          "data": {
            "text/plain": [
              "<matplotlib.legend.Legend at 0x7ec2ec61fbd0>"
            ]
          },
          "metadata": {},
          "execution_count": 10
        },
        {
          "output_type": "display_data",
          "data": {
            "text/plain": [
              "<Figure size 640x480 with 1 Axes>"
            ],
            "image/png": "[encoded data removed]"
          },
          "metadata": {}
        }
      ]
    },
    {
      "cell_type": "markdown",
      "source": [
        "For convenience, we will not worry about distinguishing between $3n$ and $8n$ or similar comparisons.\n",
        "\n",
        "But we will distinguish between $3n$ and $n^2$.\n",
        "\n",
        "Instead of considering the exact actual functions, we are more interested in the **growth rate** of the functions.\n",
        "\n",
        "The growth rate of a function roughly describes how the function behaves when the argument is adjusted."
      ],
      "metadata": {
        "id": "Rkr69IegpyZB"
      }
    },
    {
      "cell_type": "markdown",
      "source": [
        "Let's compare $3n$ and $8n$.\n",
        "\n",
        "We observe what happens when we double the argument ($n$).\n",
        "\n",
        "For example, suppose $n = 100$. Then the value of $3n = 300$.\n",
        "\n",
        "If we double $n$ to $200$, then the value of $3n = 600$.\n",
        "\n",
        "Let's try the same for $8n$ now. For $n = 100$, the value of $8n = 800$.\n",
        "\n",
        "If we double $n$ to $200$, then the value of $8n = 1600$.\n",
        "\n",
        "For both $3n$ and $8n$, doubling the value of $n$ caused the value of the function to double as well. They behaved the same way in this respect.\n",
        "\n",
        "Let's try the same with $n^2$. For $n = 100$, the value of $n^2 = 10000$.\n",
        "\n",
        "If we double $n$ to $200$, then the value of $n^2 = 40000$.\n",
        "\n",
        "Here, the function value did not double, but instead increased by 4 times.\n",
        "\n",
        "We say that $3n$ and $8n$ have the same growth rate, but $n^2$ has a higher growth rate than both of them."
      ],
      "metadata": {
        "id": "LgMp4y1kq9VB"
      }
    },
    {
      "cell_type": "markdown",
      "source": [
        "Some basic guidelines about comparing growth rates:\n",
        "*  Multiplying the function by a constant does not change its growth rate.\n",
        "*  When adding a constant number of terms, the growth rate of the entire function is the same as the growth rate of the single term with the largest growth rate. For example $n^3 + n^2 + n + 1$ has the same growth rate as $n^3$.\n",
        "*  Polymonials of higher degree have higher growth rate than polynomials of lower degree, i.e., for constants $a$ and $b$ such that $a > b$, the function $n^a$ has higher growth rate than $n^b$.\n",
        "*  Every polynomial has lower growth rate than every (growing) exponential, i.e., for constants $a$ and $b$ where $b > 1$, the function $n^a$ has lower growth rate than $b^n$.\n",
        "*  Exponential functions with higher bases have higher growth rates than those with lower bases, i.e., for constants $a$ and $b$ where $a > b$, the function $a^n$ has higher growth rate than $b^n$.\n",
        "*  Every logarithm has a lower growth rate than every (growing) polynomial, i.e., for constants $a$, $b$, and $c$, where $b > 1$, $c > 0$, the function $(\\log_b n)^a$ has lower growth rate than $n^c$."
      ],
      "metadata": {
        "id": "kmnXNhSDtGJx"
      }
    },
    {
      "cell_type": "markdown",
      "source": [
        "Extra stuff about exponentials:\n",
        "*  $n!$ has higher growth rate than every exponential function.\n",
        "*  $n^n$ has higher growth rate than $n!$, but lower growth rate than doubly exponentials, e.g., $2^{2^n}$."
      ],
      "metadata": {
        "id": "ububvfxc9SpP"
      }
    },
    {
      "cell_type": "markdown",
      "source": [
        "Some examples:\n",
        "\n",
        "*  $3n$ has the same growth rate as $8n$\n",
        "*  $n^2$ has a higher rate than $8n$\n",
        "*  $24n^2$ has lower growth rate than $3n^3$\n",
        "*  $7n^2$ has the same growth rate as $4n^2$\n",
        "*  $3n^2 + 8$ has higher growth rate than $54n$\n",
        "*  $4n = 4n^1$ has higher growth rate than $5\\sqrt{n} = 5n^{0.5}$\n",
        "*  $33$ has lower growth rate than $\\sqrt{n}$\n",
        "*  $42$ has higher growth rate than $\\frac{1}{n}$\n",
        "*  $84$ has the same growth rate as $216$\n",
        "*  $\\frac{5}{n^3}$ has lower growth rate than $\\frac{2}{n^2}$\n",
        "*  $\\frac{n^2 + 7n}{3n^3 + 14}$ has the same growth rate as $\\frac{2n^5 + 3n^2}{n^6 + 12n}$\n",
        "*  $n^2$ has lower growth rate than $2^n$\n",
        "*  $n^3$ has lower growth rate than $2^n$\n",
        "*  $n^4$ has lower growth rate than $2^n$\n",
        "*  $n^{751}$ has lower growth rate than $2^n$\n",
        "*  $2^n$ has lower growth rate than $3^n$\n",
        "*  $n!$ has higher growth rate than $50^n$\n",
        "*  $n^n$ has higher growth rate than $n!$\n",
        "*  $3n$ has higher growth rate than $\\log_2 n$"
      ],
      "metadata": {
        "id": "MGph_j61tHFA"
      }
    },
    {
      "cell_type": "markdown",
      "source": [
        "*  $a + b = c$. I know the values of $b$ and $c$, but not $a$. $a = c - b$.\n",
        "*  $a + b = c$. I know the values of $a$ and $c$, but not $b$. $b = c - a$.\n",
        "\n",
        "Subtraction is the inverse of addition.\n",
        "\n",
        "*  $ab = c$. I know the values of $b$ and $c$, but not $a$. $a = \\frac{c}{b}$\n",
        "*  $ab = c$. I know the values of $a$ and $c$, but not $b$. $b = \\frac{c}{a}$\n",
        "\n",
        "Division is the inverse of multiplication.\n",
        "\n",
        "*  $a^b = c$. I know the values of $b$ and $c$, but not $a$. $a = \\sqrt[b]{c} = c^{1/b}$\n",
        "*  $a^b = c$. I know the values of $a$ and $c$, but not $b$. $b = \\log_a (c)$"
      ],
      "metadata": {
        "id": "0-ekvv0N_p_5"
      }
    },
    {
      "cell_type": "markdown",
      "source": [
        "You can think of this as the definition of logarithms: $\\log_b (b^c) = c$\n",
        "\n",
        "$7^9 = 40353607$\n",
        "\n",
        "$\\log_7 (40353607) = 9$\n",
        "\n",
        "$\\log_2 (256) = 8$\n",
        "\n",
        "$\\log_{843} (843^{297}) = 297$"
      ],
      "metadata": {
        "id": "zuTMsjfXB3IH"
      }
    },
    {
      "cell_type": "markdown",
      "source": [
        "By default, logarithm base is 2 for CS\n",
        "\n",
        "*  $\\log n$ has lower growth rate than $\\sqrt{n}$\n",
        "*  $\\log n$ has lower growth rate than $n^{0.1/3}$\n",
        "*  $(\\log n)^3$ has lower growth rate than $n^{0.1} = (n^{0.1/3})^3$\n",
        "*  $(\\log n)^{751}$ has lower growth rate than $n^{0.0000001}$\n",
        "*  $\\log n$ has higher growth rate than $42$\n",
        "*  $\\log_2 n$ has the same growth rate as $\\log_3 n$"
      ],
      "metadata": {
        "id": "DA0aDv3-F5ia"
      }
    }
  ]
}