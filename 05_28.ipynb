{
  "nbformat": 4,
  "nbformat_minor": 0,
  "metadata": {
    "colab": {
      "provenance": [],
      "include_colab_link": true
    },
    "kernelspec": {
      "name": "python3",
      "display_name": "Python 3"
    },
    "language_info": {
      "name": "python"
    }
  },
  "cells": [
    {
      "cell_type": "markdown",
      "metadata": {
        "id": "view-in-github",
        "colab_type": "text"
      },
      "source": [
        "<a href=\"https://colab.research.google.com/github/sazzy438/Algorithm-Notes/blob/main/05_28.ipynb\" target=\"_parent\"><img src=\"https://colab.research.google.com/assets/colab-badge.svg\" alt=\"Open In Colab\"/></a>"
      ]
    },
    {
      "cell_type": "code",
      "execution_count": null,
      "metadata": {
        "id": "CP6hK3rW-azw"
      },
      "outputs": [],
      "source": [
        "# Problem: Given a non-empty array of integers, return the\n",
        "# maximum element from the array."
      ]
    },
    {
      "cell_type": "code",
      "source": [
        "import time\n",
        "import random"
      ],
      "metadata": {
        "id": "KqCvgR3xBwZk"
      },
      "execution_count": null,
      "outputs": []
    },
    {
      "cell_type": "code",
      "source": [
        "def getmax1 (lst):\n",
        "  sortedlst = sorted (lst)\n",
        "  return sortedlst[-1]\n",
        "\n",
        "lst = [12, 85, 42, 63, 75, 98, 14, 88]\n",
        "\n",
        "print (getmax1 (lst))\n",
        "print (lst)"
      ],
      "metadata": {
        "colab": {
          "base_uri": "https://localhost:8080/"
        },
        "id": "6cgp0t2kAhPt",
        "outputId": "36472737-dcf0-4ca6-f7df-dadd85ca801e"
      },
      "execution_count": null,
      "outputs": [
        {
          "output_type": "stream",
          "name": "stdout",
          "text": [
            "98\n",
            "[12, 85, 42, 63, 75, 98, 14, 88]\n"
          ]
        }
      ]
    },
    {
      "cell_type": "code",
      "source": [
        "def getmax2 (lst):\n",
        "  mx = lst[0]\n",
        "  for elem in lst:\n",
        "    if elem > mx:\n",
        "      mx = elem\n",
        "  return mx\n",
        "\n",
        "lst = [12, 85, 42, 63, 75, 98, 14, 88]\n",
        "lst = [-45, -87, -2, -64, -35]\n",
        "\n",
        "print (getmax2 (lst))\n",
        "print (lst)"
      ],
      "metadata": {
        "colab": {
          "base_uri": "https://localhost:8080/"
        },
        "id": "QRiahVMSE83r",
        "outputId": "9b39a083-5f56-41ab-f6eb-72cadc364bfb"
      },
      "execution_count": null,
      "outputs": [
        {
          "output_type": "stream",
          "name": "stdout",
          "text": [
            "-2\n",
            "[-45, -87, -2, -64, -35]\n"
          ]
        }
      ]
    },
    {
      "cell_type": "code",
      "source": [
        "def getmax3 (lst):\n",
        "  return max (lst)"
      ],
      "metadata": {
        "id": "j83_jf-oInwT"
      },
      "execution_count": null,
      "outputs": []
    },
    {
      "cell_type": "code",
      "source": [
        "N = 1000000\n",
        "MAXVAL = 50000"
      ],
      "metadata": {
        "id": "86r8Ael0DA0s"
      },
      "execution_count": null,
      "outputs": []
    },
    {
      "cell_type": "code",
      "source": [
        "lst = []\n",
        "\n",
        "for i in range (N):\n",
        "  r = random.randint (1, MAXVAL)\n",
        "  lst.append (r)\n",
        "\n",
        "start = time.time()\n",
        "print (getmax1 (lst))\n",
        "end = time.time()\n",
        "\n",
        "print (\"getmax1 execution time:\", end - start, \"seconds\")\n",
        "\n",
        "start = time.time()\n",
        "print (getmax2 (lst))\n",
        "end = time.time()\n",
        "\n",
        "print (\"getmax2 execution time:\", end - start, \"seconds\")\n",
        "\n",
        "start = time.time()\n",
        "print (getmax3 (lst))\n",
        "end = time.time()\n",
        "\n",
        "print (\"getmax3 execution time:\", end - start, \"seconds\")"
      ],
      "metadata": {
        "colab": {
          "base_uri": "https://localhost:8080/"
        },
        "id": "fv1shDYWBd1l",
        "outputId": "3ce81c15-46b0-4c16-c3b3-fc0a7cc9f863"
      },
      "execution_count": null,
      "outputs": [
        {
          "output_type": "stream",
          "name": "stdout",
          "text": [
            "50000\n",
            "getmax1 execution time: 0.43744397163391113 seconds\n",
            "50000\n",
            "getmax2 execution time: 0.02337956428527832 seconds\n",
            "50000\n",
            "getmax3 execution time: 0.014793157577514648 seconds\n"
          ]
        }
      ]
    },
    {
      "cell_type": "markdown",
      "source": [
        "For this course, there are typically three ways to describe algorithms.\n",
        "\n",
        "1.  Describe the algorithm in words (in English).\n",
        "\n",
        "For example, getmax2 can be described as follows:\n",
        "\n",
        "We initialize a variable mx to the first element of the input list. We then check every element of the list, and compare it with mx. If we find an element larger than mx, we update mx to that element and continue checking. After checking all elements, we return the final value of mx.\n",
        "\n",
        "2.  Pseudocode\n",
        "\n",
        "![image.png](data:image/png;base64,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)\n",
        "\n",
        "For both English descriptions and for pseudocode, the details should be sufficient such that an imaginary experienced programmer who does not know how to solve the problem (but knows all algorithms and results from class) would still be able to construct a correct program based on your description/pseudocode.\n",
        "\n",
        "3.  Complete Python code\n",
        "\n",
        "For all three of these, we should NOT be using any built-in functions whose internal details was not covered in class."
      ],
      "metadata": {
        "id": "-J5yAzx3JjVb"
      }
    },
    {
      "cell_type": "code",
      "source": [
        "a = 5\n",
        "b = 8\n",
        "\n",
        "a, b = b, a\n",
        "\n",
        "print (a, b)\n",
        "\n",
        "temp = a\n",
        "a = b\n",
        "b = temp\n",
        "\n",
        "print (a, b)"
      ],
      "metadata": {
        "colab": {
          "base_uri": "https://localhost:8080/"
        },
        "id": "a6gTfCTuOoEb",
        "outputId": "c49c5b7a-e014-4f39-9062-b4e937ef3775"
      },
      "execution_count": null,
      "outputs": [
        {
          "output_type": "stream",
          "name": "stdout",
          "text": [
            "8 5\n",
            "5 8\n"
          ]
        }
      ]
    }
  ]
}